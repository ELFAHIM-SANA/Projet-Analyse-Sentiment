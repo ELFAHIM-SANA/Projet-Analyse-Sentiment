{
 "cells": [
  {
   "cell_type": "code",
   "execution_count": 28,
   "metadata": {
    "colab": {
     "base_uri": "https://localhost:8080/"
    },
    "id": "rbMbV4oi11A_",
    "outputId": "0032ead9-8b57-43b4-a38a-2983ba3f4ab0"
   },
   "outputs": [
    {
     "name": "stdout",
     "output_type": "stream",
     "text": [
      "Drive already mounted at /content/drive; to attempt to forcibly remount, call drive.mount(\"/content/drive\", force_remount=True).\n"
     ]
    }
   ],
   "source": [
    "from google.colab import drive\n",
    "drive.mount('/content/drive')"
   ]
  },
  {
   "cell_type": "code",
   "execution_count": 1,
   "metadata": {
    "id": "A9QbxEf717qS"
   },
   "outputs": [],
   "source": [
    "import pandas as pd\n",
    "import nltk"
   ]
  },
  {
   "cell_type": "code",
   "execution_count": 2,
   "metadata": {
    "id": "AYIyISYt2BAe"
   },
   "outputs": [],
   "source": [
    "data = pd.read_csv(r'C:\\Users\\user\\Downloads\\IMDB Dataset.csv')"
   ]
  },
  {
   "cell_type": "code",
   "execution_count": 3,
   "metadata": {
    "colab": {
     "base_uri": "https://localhost:8080/",
     "height": 206
    },
    "id": "pY2lRAIS2DeH",
    "outputId": "179ffc27-8d4d-4b77-b893-27bf296fc98f"
   },
   "outputs": [
    {
     "data": {
      "text/html": [
       "<div>\n",
       "<style scoped>\n",
       "    .dataframe tbody tr th:only-of-type {\n",
       "        vertical-align: middle;\n",
       "    }\n",
       "\n",
       "    .dataframe tbody tr th {\n",
       "        vertical-align: top;\n",
       "    }\n",
       "\n",
       "    .dataframe thead th {\n",
       "        text-align: right;\n",
       "    }\n",
       "</style>\n",
       "<table border=\"1\" class=\"dataframe\">\n",
       "  <thead>\n",
       "    <tr style=\"text-align: right;\">\n",
       "      <th></th>\n",
       "      <th>review</th>\n",
       "      <th>sentiment</th>\n",
       "    </tr>\n",
       "  </thead>\n",
       "  <tbody>\n",
       "    <tr>\n",
       "      <th>0</th>\n",
       "      <td>One of the other reviewers has mentioned that ...</td>\n",
       "      <td>positive</td>\n",
       "    </tr>\n",
       "    <tr>\n",
       "      <th>1</th>\n",
       "      <td>A wonderful little production. &lt;br /&gt;&lt;br /&gt;The...</td>\n",
       "      <td>positive</td>\n",
       "    </tr>\n",
       "    <tr>\n",
       "      <th>2</th>\n",
       "      <td>I thought this was a wonderful way to spend ti...</td>\n",
       "      <td>positive</td>\n",
       "    </tr>\n",
       "    <tr>\n",
       "      <th>3</th>\n",
       "      <td>Basically there's a family where a little boy ...</td>\n",
       "      <td>negative</td>\n",
       "    </tr>\n",
       "    <tr>\n",
       "      <th>4</th>\n",
       "      <td>Petter Mattei's \"Love in the Time of Money\" is...</td>\n",
       "      <td>positive</td>\n",
       "    </tr>\n",
       "  </tbody>\n",
       "</table>\n",
       "</div>"
      ],
      "text/plain": [
       "                                              review sentiment\n",
       "0  One of the other reviewers has mentioned that ...  positive\n",
       "1  A wonderful little production. <br /><br />The...  positive\n",
       "2  I thought this was a wonderful way to spend ti...  positive\n",
       "3  Basically there's a family where a little boy ...  negative\n",
       "4  Petter Mattei's \"Love in the Time of Money\" is...  positive"
      ]
     },
     "execution_count": 3,
     "metadata": {},
     "output_type": "execute_result"
    }
   ],
   "source": [
    "data.head()"
   ]
  },
  {
   "cell_type": "code",
   "execution_count": 4,
   "metadata": {
    "colab": {
     "base_uri": "https://localhost:8080/"
    },
    "id": "qcNs6eCO2GO_",
    "outputId": "9604d35c-ab3a-451d-f28b-7dfc2f7a43b4"
   },
   "outputs": [
    {
     "name": "stdout",
     "output_type": "stream",
     "text": [
      "Nombre de lignes du DataFrame : 50000\n"
     ]
    }
   ],
   "source": [
    "# Afficher le nombre de lignes du DataFrame\n",
    "nombre_de_lignes = data.shape[0]\n",
    "print(\"Nombre de lignes du DataFrame :\", nombre_de_lignes)\n"
   ]
  },
  {
   "cell_type": "code",
   "execution_count": 5,
   "metadata": {
    "id": "ONiAxymQ2I_a"
   },
   "outputs": [],
   "source": [
    "import pandas as pd\n",
    "\n",
    "# Supprimer les dernières n lignes\n",
    "n =45000  # Nombre de dernières lignes à supprimer\n",
    "data.drop(data.tail(n).index, inplace=True)"
   ]
  },
  {
   "cell_type": "code",
   "execution_count": 6,
   "metadata": {
    "colab": {
     "base_uri": "https://localhost:8080/"
    },
    "id": "YU4KdOrV2MNV",
    "outputId": "e18765bf-209b-420f-e02d-9aa5e15b3f6b"
   },
   "outputs": [
    {
     "name": "stdout",
     "output_type": "stream",
     "text": [
      "Nombre de lignes du DataFrame : 5000\n"
     ]
    }
   ],
   "source": [
    "# Afficher le nombre de lignes du DataFrame\n",
    "nombre_de_lignes = data.shape[0]\n",
    "print(\"Nombre de lignes du DataFrame :\", nombre_de_lignes)\n"
   ]
  },
  {
   "cell_type": "code",
   "execution_count": 7,
   "metadata": {
    "id": "3r8GYhKk2PCP"
   },
   "outputs": [],
   "source": [
    "import pandas as pd\n",
    "import nltk\n",
    "import re\n",
    "import string\n",
    "from nltk.corpus import stopwords\n",
    "from nltk.stem import PorterStemmer\n",
    "import spacy"
   ]
  },
  {
   "cell_type": "code",
   "execution_count": 8,
   "metadata": {
    "colab": {
     "base_uri": "https://localhost:8080/"
    },
    "id": "9-R9sfl22RQs",
    "outputId": "bae0a414-2857-4159-9a61-7c4c891a13c4"
   },
   "outputs": [
    {
     "name": "stderr",
     "output_type": "stream",
     "text": [
      "[nltk_data] Downloading package stopwords to\n",
      "[nltk_data]     C:\\Users\\user\\AppData\\Roaming\\nltk_data...\n",
      "[nltk_data]   Package stopwords is already up-to-date!\n",
      "[nltk_data] Downloading package punkt to\n",
      "[nltk_data]     C:\\Users\\user\\AppData\\Roaming\\nltk_data...\n",
      "[nltk_data]   Package punkt is already up-to-date!\n"
     ]
    },
    {
     "name": "stdout",
     "output_type": "stream",
     "text": [
      "\u001b[38;5;2m✔ Download and installation successful\u001b[0m\n",
      "You can now load the package via spacy.load('en_core_web_sm')\n",
      "\u001b[38;5;3m⚠ Restart to reload dependencies\u001b[0m\n",
      "If you are in a Jupyter or Colab notebook, you may need to restart Python in\n",
      "order to load all the package's dependencies. You can do this by selecting the\n",
      "'Restart kernel' or 'Restart runtime' option.\n"
     ]
    }
   ],
   "source": [
    "nltk.download('stopwords')\n",
    "nltk.download('punkt')\n",
    "spacy.cli.download(\"en_core_web_sm\")\n",
    "nlp = spacy.load(\"en_core_web_sm\")"
   ]
  },
  {
   "cell_type": "code",
   "execution_count": 9,
   "metadata": {
    "colab": {
     "base_uri": "https://localhost:8080/"
    },
    "id": "bJLFrB8U2UhX",
    "outputId": "0eef2dad-d437-4228-93b0-edc0f9826093"
   },
   "outputs": [
    {
     "name": "stdout",
     "output_type": "stream",
     "text": [
      "                                              review  \\\n",
      "0  One of the other reviewers has mentioned that ...   \n",
      "1  A wonderful little production. <br /><br />The...   \n",
      "2  I thought this was a wonderful way to spend ti...   \n",
      "3  Basically there's a family where a little boy ...   \n",
      "4  Petter Mattei's \"Love in the Time of Money\" is...   \n",
      "\n",
      "                                       Cleanedreview  \n",
      "0  one review mention watch oz episod hook right ...  \n",
      "1  wonder littl product br br film techniqu unass...  \n",
      "2  thought wonder way spend time hot summer weeke...  \n",
      "3  basic famili littl boy jake think zombi closet...  \n",
      "4  petter mattei love time money visual stun film...  \n",
      "                                                 review sentiment  \\\n",
      "0     One of the other reviewers has mentioned that ...  positive   \n",
      "1     A wonderful little production. <br /><br />The...  positive   \n",
      "2     I thought this was a wonderful way to spend ti...  positive   \n",
      "3     Basically there's a family where a little boy ...  negative   \n",
      "4     Petter Mattei's \"Love in the Time of Money\" is...  positive   \n",
      "...                                                 ...       ...   \n",
      "4995  An interesting slasher film with multiple susp...  negative   \n",
      "4996  i watched this series when it first came out i...  positive   \n",
      "4997  Once again Jet Li brings his charismatic prese...  positive   \n",
      "4998  I rented this movie, after hearing Chris Gore ...  negative   \n",
      "4999  This was a big disappointment for me. I think ...  negative   \n",
      "\n",
      "                                          Cleanedreview  \n",
      "0     one review mention watch oz episod hook right ...  \n",
      "1     wonder littl product br br film techniqu unass...  \n",
      "2     thought wonder way spend time hot summer weeke...  \n",
      "3     basic famili littl boy jake think zombi closet...  \n",
      "4     petter mattei love time money visual stun film...  \n",
      "...                                                 ...  \n",
      "4995  interest slasher film multipl suspect br br in...  \n",
      "4996  watch seri first came 70 14 year old watch bes...  \n",
      "4997  jet li bring charismat presenc movi screen fil...  \n",
      "4998  rent movi hear chri gore say someth effect fiv...  \n",
      "4999  big disappoint think worst mastroianni movi ev...  \n",
      "\n",
      "[5000 rows x 3 columns]\n"
     ]
    }
   ],
   "source": [
    "from nltk.tokenize import word_tokenize\n",
    "\n",
    "# Initialisation du tokenizer, des stop words et du stemmer\n",
    "tokenizer = nltk.RegexpTokenizer(r'\\w+')\n",
    "stop_words = set(stopwords.words(\"english\"))\n",
    "stemmer = PorterStemmer()\n",
    "\n",
    "# Expression régulière pour le nettoyage des reviews\n",
    "reg = re.compile(\"(@[A-Za-z0-9]+)|(#[A-Za-z0-9]+)|([^0-9A-Za-z \\t])|(w+://\\S+)\")\n",
    "\n",
    "# Fonction pour le prétraitement du texte avec stemming et nettoyage\n",
    "def preprocess_text(text):\n",
    "    # Suppression des mentions, des hashtags, des caractères non alphanumériques et des URLs\n",
    "    cleaned_text = reg.sub(\" \", text)\n",
    "\n",
    "    # Tokenisation\n",
    "    tokens = word_tokenize(cleaned_text)\n",
    "\n",
    "    # Suppression des stop words et stemming\n",
    "    filtered_tokens = [stemmer.stem(token) for token in tokens\n",
    "                       if token.lower() not in stop_words and len(token) > 1]\n",
    "\n",
    "    return filtered_tokens\n",
    "\n",
    "\n",
    "# Appliquer le prétraitement sur la colonne 'review'\n",
    "data['Cleanedreview'] = data['review'].apply(lambda x: ' '.join(preprocess_text(x)))\n",
    "\n",
    "\n",
    "# Supprimer les lignes vides ou contenant uniquement des stopwords\n",
    "data = data[data['Cleanedreview'].str.strip() != '']\n",
    "\n",
    "# Afficher les premières lignes du jeu de données avec les tweets nettoyés\n",
    "print(data[['review', 'Cleanedreview']].head())\n",
    "print(data)\n"
   ]
  },
  {
   "cell_type": "code",
   "execution_count": 10,
   "metadata": {
    "colab": {
     "base_uri": "https://localhost:8080/"
    },
    "id": "ybSXcW_b2V7h",
    "outputId": "8d565673-3ef6-443f-e041-c3b9c9c798c1"
   },
   "outputs": [
    {
     "name": "stdout",
     "output_type": "stream",
     "text": [
      "    00  000  007  00am   01  01pm   02   04   05   06  ...  zucker  zudina  \\\n",
      "0  0.0  0.0  0.0   0.0  0.0   0.0  0.0  0.0  0.0  0.0  ...     0.0     0.0   \n",
      "1  0.0  0.0  0.0   0.0  0.0   0.0  0.0  0.0  0.0  0.0  ...     0.0     0.0   \n",
      "2  0.0  0.0  0.0   0.0  0.0   0.0  0.0  0.0  0.0  0.0  ...     0.0     0.0   \n",
      "3  0.0  0.0  0.0   0.0  0.0   0.0  0.0  0.0  0.0  0.0  ...     0.0     0.0   \n",
      "4  0.0  0.0  0.0   0.0  0.0   0.0  0.0  0.0  0.0  0.0  ...     0.0     0.0   \n",
      "\n",
      "   zue  zulu  zuniga  zurich  zwart  zwick  zzzzip  zzzzzzzzzzzzzzzzzz  \n",
      "0  0.0   0.0     0.0     0.0    0.0    0.0     0.0                 0.0  \n",
      "1  0.0   0.0     0.0     0.0    0.0    0.0     0.0                 0.0  \n",
      "2  0.0   0.0     0.0     0.0    0.0    0.0     0.0                 0.0  \n",
      "3  0.0   0.0     0.0     0.0    0.0    0.0     0.0                 0.0  \n",
      "4  0.0   0.0     0.0     0.0    0.0    0.0     0.0                 0.0  \n",
      "\n",
      "[5 rows x 26546 columns]\n"
     ]
    }
   ],
   "source": [
    "from sklearn.feature_extraction.text import TfidfVectorizer\n",
    "from scipy.sparse import csr_matrix\n",
    "\n",
    "# Définir le vectoriseur TF-IDF avec les paramètres appropriés\n",
    "vectorizer = TfidfVectorizer(stop_words=None)\n",
    "\n",
    "# Transformer les données textuelles en vecteurs TF-IDF\n",
    "X_tfidf = vectorizer.fit_transform(data[\"Cleanedreview\"])\n",
    "\n",
    "# Convertir la matrice TF-IDF en une matrice creuse CSR\n",
    "tfidf_csr = csr_matrix(X_tfidf)\n",
    "\n",
    "# Créer un DataFrame à partir de la matrice creuse\n",
    "tfidf_df = pd.DataFrame.sparse.from_spmatrix(tfidf_csr,\n",
    "                                             columns=vectorizer.get_feature_names_out())\n",
    "\n",
    "# Afficher les premières lignes du DataFrame\n",
    "print(tfidf_df.head())\n"
   ]
  },
  {
   "cell_type": "code",
   "execution_count": 13,
   "metadata": {},
   "outputs": [
    {
     "name": "stdout",
     "output_type": "stream",
     "text": [
      "Accuracy: 0.87\n",
      "Precision: 0.8708685572875183\n",
      "Recall: 0.87\n",
      "F1-score: 0.8700627230380984\n"
     ]
    }
   ],
   "source": [
    "import pickle\n",
    "from sklearn.pipeline import Pipeline\n",
    "from sklearn.feature_extraction.text import TfidfVectorizer\n",
    "from sklearn.model_selection import train_test_split\n",
    "from sklearn.linear_model import LogisticRegression\n",
    "from sklearn.metrics import accuracy_score, precision_score, recall_score, f1_score\n",
    "\n",
    "# Les étiquettes\n",
    "y = data['sentiment']\n",
    "\n",
    "# Diviser les données en ensembles d'entraînement et de test\n",
    "X_train, X_test, y_train, y_test = train_test_split(data['review'], y, test_size=0.3, random_state=42)\n",
    "\n",
    "# Créer la pipeline\n",
    "clf = Pipeline([\n",
    "    ('tfidf', TfidfVectorizer()),  # Transformation des textes en vecteurs TF-IDF\n",
    "    ('clf', LogisticRegression())  # Modèle de régression logistique\n",
    "])\n",
    "\n",
    "# Entraîner le modèle\n",
    "clf.fit(X_train, y_train)\n",
    "\n",
    "# Prédictions du modèle sur l'ensemble de test\n",
    "y_pred = clf.predict(X_test)\n",
    "\n",
    "# Évaluer la performance du modèle\n",
    "accuracy = accuracy_score(y_test, y_pred)\n",
    "precision = precision_score(y_test, y_pred, average='weighted')\n",
    "recall = recall_score(y_test, y_pred, average='weighted')\n",
    "f1 = f1_score(y_test, y_pred, average='weighted')\n",
    "\n",
    "# Affichage des résultats\n",
    "print(\"Accuracy:\", accuracy)\n",
    "print(\"Precision:\", precision)\n",
    "print(\"Recall:\", recall)\n",
    "print(\"F1-score:\", f1)\n",
    "\n",
    "# Sauvegarder le modèle et le vectorizer\n",
    "with open('sentiment_model.pkl', 'wb') as model_file:\n",
    "    pickle.dump(clf, model_file)\n"
   ]
  },
  {
   "cell_type": "code",
   "execution_count": 14,
   "metadata": {},
   "outputs": [
    {
     "data": {
      "text/plain": [
       "array(['positive'], dtype=object)"
      ]
     },
     "execution_count": 14,
     "metadata": {},
     "output_type": "execute_result"
    }
   ],
   "source": [
    "clf.predict(['Wow, this is amazing film'])\n"
   ]
  },
  {
   "cell_type": "code",
   "execution_count": 15,
   "metadata": {},
   "outputs": [
    {
     "data": {
      "text/plain": [
       "array(['negative'], dtype=object)"
      ]
     },
     "execution_count": 15,
     "metadata": {},
     "output_type": "execute_result"
    }
   ],
   "source": [
    "clf.predict(['Wow, this sucks'])\n"
   ]
  },
  {
   "cell_type": "code",
   "execution_count": 17,
   "metadata": {},
   "outputs": [],
   "source": [
    "import pickle\n",
    "\n",
    "pickle.dump(clf, open('sentiment_analysis_movies.pkl', 'wb'))"
   ]
  },
  {
   "cell_type": "code",
   "execution_count": 23,
   "metadata": {},
   "outputs": [
    {
     "data": {
      "text/plain": [
       "array(['positive'], dtype=object)"
      ]
     },
     "execution_count": 23,
     "metadata": {},
     "output_type": "execute_result"
    }
   ],
   "source": [
    "clf.predict(['i like so mush the film'])\n"
   ]
  },
  {
   "cell_type": "code",
   "execution_count": 19,
   "metadata": {},
   "outputs": [
    {
     "data": {
      "text/plain": [
       "array(['negative'], dtype=object)"
      ]
     },
     "execution_count": 19,
     "metadata": {},
     "output_type": "execute_result"
    }
   ],
   "source": [
    "clf.predict(['the film is sucks'])\n"
   ]
  },
  {
   "cell_type": "code",
   "execution_count": 20,
   "metadata": {},
   "outputs": [
    {
     "data": {
      "text/plain": [
       "array(['positive'], dtype=object)"
      ]
     },
     "execution_count": 20,
     "metadata": {},
     "output_type": "execute_result"
    }
   ],
   "source": [
    "clf.predict(['Wow, this is amazing film'])\n"
   ]
  },
  {
   "cell_type": "code",
   "execution_count": 27,
   "metadata": {},
   "outputs": [
    {
     "data": {
      "text/plain": [
       "array(['negative'], dtype=object)"
      ]
     },
     "execution_count": 27,
     "metadata": {},
     "output_type": "execute_result"
    }
   ],
   "source": [
    "clf.predict(['i don t like the film'])\n"
   ]
  },
  {
   "cell_type": "code",
   "execution_count": 28,
   "metadata": {},
   "outputs": [
    {
     "data": {
      "text/plain": [
       "array(['negative'], dtype=object)"
      ]
     },
     "execution_count": 28,
     "metadata": {},
     "output_type": "execute_result"
    }
   ],
   "source": [
    "clf.predict(['the film is so bad'])\n"
   ]
  },
  {
   "cell_type": "code",
   "execution_count": 29,
   "metadata": {},
   "outputs": [
    {
     "data": {
      "text/plain": [
       "array(['positive'], dtype=object)"
      ]
     },
     "execution_count": 29,
     "metadata": {},
     "output_type": "execute_result"
    }
   ],
   "source": [
    "clf.predict(['the film is so good'])\n"
   ]
  }
 ],
 "metadata": {
  "accelerator": "GPU",
  "colab": {
   "gpuType": "T4",
   "provenance": []
  },
  "kernelspec": {
   "display_name": "Python 3 (ipykernel)",
   "language": "python",
   "name": "python3"
  },
  "language_info": {
   "codemirror_mode": {
    "name": "ipython",
    "version": 3
   },
   "file_extension": ".py",
   "mimetype": "text/x-python",
   "name": "python",
   "nbconvert_exporter": "python",
   "pygments_lexer": "ipython3",
   "version": "3.11.5"
  }
 },
 "nbformat": 4,
 "nbformat_minor": 1
}
